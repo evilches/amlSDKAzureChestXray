{
 "cells": [
  {
   "cell_type": "markdown",
   "metadata": {},
   "source": [
    "# Deploy Model"
   ]
  },
  {
   "cell_type": "markdown",
   "metadata": {},
   "source": [
    "## Get workspace"
   ]
  },
  {
   "cell_type": "code",
   "execution_count": 2,
   "metadata": {},
   "outputs": [
    {
     "name": "stdout",
     "output_type": "stream",
     "text": [
      "1.0.8\n"
     ]
    }
   ],
   "source": [
    "import sys, os\n",
    "\n",
    "import azureml.core\n",
    "print(azureml.core.VERSION)"
   ]
  },
  {
   "cell_type": "code",
   "execution_count": 3,
   "metadata": {},
   "outputs": [
    {
     "name": "stdout",
     "output_type": "stream",
     "text": [
      "Found the config file in: /datadrive01/amlSDKAzureChestXray/code/aml_config/config.json\n",
      "sdk-chest-xray\n",
      "ghiordanchestxray03rsg\n",
      "eastus\n",
      "edf507a2-6235-46c5-b560-fd463ba2e771\n"
     ]
    }
   ],
   "source": [
    "from azureml.core.workspace import Workspace\n",
    "\n",
    "ws = Workspace.from_config()\n",
    "print(ws.name, ws.resource_group, ws.location, ws.subscription_id, sep = '\\n')"
   ]
  },
  {
   "cell_type": "markdown",
   "metadata": {},
   "source": [
    "## Organize Paths"
   ]
  },
  {
   "cell_type": "code",
   "execution_count": 4,
   "metadata": {},
   "outputs": [],
   "source": [
    "import azure_chestxray_utils"
   ]
  },
  {
   "cell_type": "code",
   "execution_count": 5,
   "metadata": {},
   "outputs": [],
   "source": [
    "base_dir = './models'"
   ]
  },
  {
   "cell_type": "code",
   "execution_count": 12,
   "metadata": {},
   "outputs": [],
   "source": [
    "prj_consts = azure_chestxray_utils.chestxray_consts()\n",
    "\n",
    "data_base_output_dir=os.path.join(base_dir, \n",
    "                                  os.path.join(*(prj_consts.BASE_OUTPUT_DIR_list)))\n",
    "\n",
    "weights_dir = os.path.join(data_base_output_dir, os.path.join(*(prj_consts.MODEL_WEIGHTS_DIR_list))) \n",
    "fully_trained_weights_dir = os.path.join(data_base_output_dir, os.path.join(*(prj_consts.FULLY_PRETRAINED_MODEL_DIR_list))) \n",
    "\n",
    "model_file_name= 'azure_chest_xray_14_weights_712split_epoch_250_val_loss_179-4776.hdf5'\n",
    "\n",
    "# model_file_name = 'azure_chest_xray_14_weights_712split_epoch_300_val_loss_361.7687.hdf5'"
   ]
  },
  {
   "cell_type": "markdown",
   "metadata": {},
   "source": [
    "## Register Model"
   ]
  },
  {
   "cell_type": "code",
   "execution_count": 13,
   "metadata": {},
   "outputs": [
    {
     "name": "stdout",
     "output_type": "stream",
     "text": [
      "Registering model chest_xray_model_179.hdf5\n",
      "chest_xray_model_179.hdf5 Predict diseases with chest x-ray image classification 1\n"
     ]
    }
   ],
   "source": [
    "#Register the model\n",
    "from azureml.core.model import Model\n",
    "\n",
    "if len(Model.list(ws, tags={'project': 'chest-xray', 'val_loss' : '179'})) != 0:\n",
    "    for m in Model.list(ws, tags={'project': 'chest-xray'}):\n",
    "    # for m in r_models:\n",
    "        print(\"Name:\", m.name,\"\\tVersion:\", m.version, \"\\tDescription:\", m.description, m.tags)\n",
    "    model = Model.list(ws, tags={'project': 'chest-xray'})[0]\n",
    "    print(model.name, model.description, model.version, sep = '\\t')\n",
    "else:\n",
    "    model = Model.register(model_path = model_file_name, # this points to a local file\n",
    "                           model_name = \"chest_xray_model_179.hdf5\", # this is the name the model is registered as\n",
    "                           tags = {'area': \"health\", 'type': \"classification\", 'project': 'chest-xray', 'val_loss' : '179'},\n",
    "                           description = \"Predict diseases with chest x-ray image classification\",\n",
    "                           workspace = ws)\n",
    "\n",
    "print(model.name, model.description, model.version)"
   ]
  },
  {
   "cell_type": "markdown",
   "metadata": {},
   "source": [
    "## Create Image"
   ]
  },
  {
   "cell_type": "code",
   "execution_count": 5,
   "metadata": {},
   "outputs": [
    {
     "name": "stdout",
     "output_type": "stream",
     "text": [
      "Overwriting score.py\n"
     ]
    }
   ],
   "source": [
    "%%writefile score.py\n",
    "\n",
    "from azureml.core.model import Model\n",
    "import os, sys, pickle, base64\n",
    "from keras.layers import Dense\n",
    "import keras_contrib\n",
    "from keras_contrib.applications.densenet import DenseNetImageNet121\n",
    "import numpy as np\n",
    "import json\n",
    "import pandas as pd\n",
    "import azure_chestxray_utils, azure_chestxray_keras_utils, azure_chestxray_cam\n",
    "\n",
    "#Parameters \n",
    "global as_string_b64encoded_pickled_data_column_name\n",
    "as_string_b64encoded_pickled_data_column_name   = 'encoded_image'\n",
    "\n",
    "def init():\n",
    "    global model\n",
    "    model_path = Model.get_model_path(\"chest_xray_model_179.hdf5\")\n",
    "    model = azure_chestxray_keras_utils.build_model(keras_contrib.applications.densenet.DenseNetImageNet121)\n",
    "    model.load_weights(model_path)\n",
    "    \n",
    "def run(data, with_cam = False): \n",
    "    input_cv2_image = np.array(json.loads(data)['data'])\n",
    "    predictions, serialized_cam_image, predicted_disease_index, direct_result = get_image_score_and_serialized_cam(input_cv2_image)\n",
    "\n",
    "    outDict = {\"predictedDiseaseIndex\": int(predicted_disease_index), \"chestXrayScore\": str(predictions)}\n",
    "    \n",
    "    if with_cam:\n",
    "        outDict[\"chestXrayCAM\"]= as_string_b64encoded_pickled(serialized_cam_image)\n",
    "        \n",
    "    return json.dumps(outDict)\n",
    "        \n",
    "\n",
    "####################################\n",
    "# Utils\n",
    "####################################\n",
    "def as_string_b64encoded_pickled(input_object):\n",
    "     #b64encode returns bytes class, make it string by calling .decode('utf-8')\n",
    "    return (base64.b64encode(pickle.dumps(input_object))).decode('utf-8')\n",
    "\n",
    "def unpickled_b64decoded_as_bytes(input_object):\n",
    "    if input_object.startswith('b\\''):\n",
    "        input_object = input_object[2:-1]\n",
    "    # make string bytes\n",
    "    input_object   =  input_object.encode('utf-8')\n",
    "    #decode and the unpickle the bytes to recover original object\n",
    "    return (pickle.loads(base64.b64decode(input_object)))\n",
    "\n",
    "def get_image_score_and_serialized_cam(crt_cv2_image):\n",
    "    prj_consts = azure_chestxray_utils.chestxray_consts()\n",
    "    crt_cv2_image = azure_chestxray_utils.normalize_nd_array(crt_cv2_image)\n",
    "    crt_cv2_image = 255*crt_cv2_image\n",
    "    direct_result = model.predict(np.expand_dims(crt_cv2_image,0))\n",
    "    crt_cv2_image=crt_cv2_image.astype('uint8')\n",
    "    predictions, cam_image, predicted_disease_index = \\\n",
    "    azure_chestxray_cam.get_score_and_cam_picture(crt_cv2_image, model)\n",
    "    blended_image = azure_chestxray_cam.process_cam_image(cam_image, crt_cv2_image)\n",
    "    serialized_image = azure_chestxray_cam.plot_cam_results(blended_image, cam_image, crt_cv2_image, \\\n",
    "                 prj_consts.DISEASE_list[predicted_disease_index])\n",
    "    return predictions, serialized_image, predicted_disease_index, direct_result\n",
    "\n",
    "#for testing only\n",
    "def test_image():\n",
    "    resized_height = 224\n",
    "    resized_width = 224\n",
    "    \n",
    "    #init local model\n",
    "    global model\n",
    "    model = azure_chestxray_keras_utils.build_model(keras_contrib.applications.densenet.DenseNetImageNet121)\n",
    "    model.load_weights('azure_chest_xray_14_weights_712split_epoch_250_val_loss_179-4776.hdf5')\n",
    "    \n",
    "    #script for later use\n",
    "    import cv2\n",
    "    image_dir = \"./../../../data/chestxray/ChestX-ray8/ChestXray-NIHCC/images\"\n",
    "    image_name = \"00000003_000.png\"\n",
    "    full_path = os.path.join(image_dir, image_name)\n",
    "    cv2_image = cv2.resize(cv2.imread(full_path), (resized_height, resized_width))\n",
    "    \n",
    "#     ans = model.predict(np.expand_dims(cv2_image,0))\n",
    "    \n",
    "    test_images = json.dumps({\"data\": cv2_image.tolist()})\n",
    "    test_images = bytes(test_images, encoding = \"utf8\")\n",
    "    ans = run(test_images, True)\n",
    "    \n",
    "    return ans\n"
   ]
  },
  {
   "cell_type": "code",
   "execution_count": 97,
   "metadata": {},
   "outputs": [],
   "source": [
    "from azureml.core.conda_dependencies import CondaDependencies \n",
    "\n",
    "myenv = CondaDependencies.create(pip_packages= ['azureml-defaults', 'tensorflow','tensorflow-tensorboard','numpy==1.14.5', 'git+git://github.com/keras-team/keras.git',\n",
    "                                                'git+https://www.github.com/keras-team/keras-contrib.git',\n",
    "                                                'http://download.pytorch.org/whl/cu90/torch-0.4.0-cp36-cp36m-linux_x86_64.whl'], \n",
    "                                 conda_packages=['h5py', 'notebook=5.6.0', 'opencv', 'tqdm', 'matplotlib', 'pandas'])\n",
    "\n",
    "# 'git+git://github.com/keras-team/keras.git',\n",
    "#                                                 'git+https://www.github.com/keras-team/keras-contrib.git',\n",
    "#                                                 'http://download.pytorch.org/whl/cu90/torch-0.4.0-cp36-cp36m-linux_x86_64.whl'\n",
    "with open(\"myenv.yml\",\"w\") as f:\n",
    "    f.write(myenv.serialize_to_string())"
   ]
  },
  {
   "cell_type": "code",
   "execution_count": 98,
   "metadata": {},
   "outputs": [
    {
     "name": "stdout",
     "output_type": "stream",
     "text": [
      "Creating image\n",
      "Running.........................................................................................................................................................................................................................................\n",
      "SucceededImage creation operation finished for image xray-image:6, operation \"Succeeded\"\n"
     ]
    }
   ],
   "source": [
    "from azureml.core.image import ContainerImage\n",
    "\n",
    "image_config = ContainerImage.image_configuration(execution_script = 'score.py', \n",
    "                                                 runtime = 'python',\n",
    "                                                 conda_file = 'myenv.yml',\n",
    "                                                 docker_file = 'docker_steps',\n",
    "                                                 dependencies = ['./'],\n",
    "                                                 description = \"Chest x-ray image classification for diseases\",\n",
    "                                                 tags = {'area': \"health\", 'type': \"classification\"})\n",
    "\n",
    "image = ContainerImage.create(name = \"xray-image\",\n",
    "                             models = [model], \n",
    "                             image_config = image_config, \n",
    "                             workspace = ws)\n",
    "\n",
    "image.wait_for_creation(show_output = True)"
   ]
  },
  {
   "cell_type": "markdown",
   "metadata": {},
   "source": [
    "## Attach AKS Cluster"
   ]
  },
  {
   "cell_type": "code",
   "execution_count": 27,
   "metadata": {},
   "outputs": [],
   "source": [
    "from azureml.core.compute import AksCompute, ComputeTarget"
   ]
  },
  {
   "cell_type": "markdown",
   "metadata": {},
   "source": [
    "On the first run of the notebook, provision a new AKS cluster."
   ]
  },
  {
   "cell_type": "code",
   "execution_count": 52,
   "metadata": {},
   "outputs": [],
   "source": [
    "# aks_cluster_name = \"aks-chest-xray\"\n",
    "# prov_config = AksCompute.provisioning_configuration()\n",
    "\n",
    "# aks_target = ComputeTarget.create(workspace = ws, \n",
    "#                                       name = aks_cluster_name, \n",
    "#                                       provisioning_configuration = prov_config)"
   ]
  },
  {
   "cell_type": "code",
   "execution_count": 53,
   "metadata": {},
   "outputs": [
    {
     "name": "stdout",
     "output_type": "stream",
     "text": [
      "Creating...........................................................................................\n",
      "SucceededProvisioning operation finished, operation \"Succeeded\"\n",
      "Succeeded\n",
      "None\n"
     ]
    }
   ],
   "source": [
    "# aks_target.wait_for_completion(show_output = True)\n",
    "# print(aks_target.provisioning_state)\n",
    "# print(aks_target.provisioning_errors)"
   ]
  },
  {
   "cell_type": "markdown",
   "metadata": {},
   "source": [
    "On subsequent runs, reference existing AKS cluster."
   ]
  },
  {
   "cell_type": "code",
   "execution_count": 28,
   "metadata": {},
   "outputs": [
    {
     "name": "stdout",
     "output_type": "stream",
     "text": [
      "SucceededProvisioning operation finished, operation \"Succeeded\"\n"
     ]
    }
   ],
   "source": [
    "resource_id = \"/subscriptions/edf507a2-6235-46c5-b560-fd463ba2e771/resourcegroups/ghiordanchestxray03rsg/providers/Microsoft.ContainerService/managedClusters/aks-chest-xray379972399\"\n",
    "aks_cluster_name = \"aks-chest-xray\"\n",
    "\n",
    "attach_config = AksCompute.attach_configuration(resource_id=resource_id)\n",
    "aks_target = ComputeTarget.attach(workspace=ws, name=aks_cluster_name, attach_configuration=attach_config)\n",
    "# Wait for the operation to complete\n",
    "aks_target.wait_for_completion(True)"
   ]
  },
  {
   "cell_type": "markdown",
   "metadata": {},
   "source": [
    "## Deploy web service to AKS"
   ]
  },
  {
   "cell_type": "code",
   "execution_count": 29,
   "metadata": {},
   "outputs": [],
   "source": [
    "from azureml.core.webservice import Webservice, AksWebservice"
   ]
  },
  {
   "cell_type": "code",
   "execution_count": 30,
   "metadata": {},
   "outputs": [],
   "source": [
    "#Set the web service configuration (using default here)\n",
    "aks_config = AksWebservice.deploy_configuration()"
   ]
  },
  {
   "cell_type": "code",
   "execution_count": 99,
   "metadata": {},
   "outputs": [
    {
     "name": "stdout",
     "output_type": "stream",
     "text": [
      "Creating service\n",
      "Running.........................................\n",
      "SucceededAKS service creation operation finished, operation \"Succeeded\"\n",
      "Healthy\n",
      "CPU times: user 809 ms, sys: 32.5 ms, total: 841 ms\n",
      "Wall time: 4min 16s\n"
     ]
    }
   ],
   "source": [
    "%%time\n",
    "aks_service_name ='aks-service-xray-6'\n",
    "\n",
    "aks_service = Webservice.deploy_from_image(workspace = ws, \n",
    "                                           name = aks_service_name,\n",
    "                                           image = image,\n",
    "                                           deployment_config = aks_config,\n",
    "                                           deployment_target = aks_target)\n",
    "aks_service.wait_for_deployment(show_output = True)\n",
    "print(aks_service.state)"
   ]
  },
  {
   "cell_type": "code",
   "execution_count": 55,
   "metadata": {},
   "outputs": [],
   "source": [
    "# print(ws.webservices['aks-service-xray-6'].get_logs())"
   ]
  },
  {
   "cell_type": "markdown",
   "metadata": {},
   "source": [
    "## Test web service"
   ]
  },
  {
   "cell_type": "code",
   "execution_count": 101,
   "metadata": {},
   "outputs": [
    {
     "name": "stdout",
     "output_type": "stream",
     "text": [
      "[1.30585119e-01 1.03531078e-04 1.65205672e-02 1.18964024e-01\n",
      " 3.62095051e-02 6.71617389e-02 7.08098011e-03 1.68860499e-02\n",
      " 1.08668078e-02 1.77454363e-04 2.34917458e-02 3.49089913e-02\n",
      " 1.68611444e-11 5.03102923e-03]\n",
      "CPU times: user 58 ms, sys: 4.08 ms, total: 62.1 ms\n",
      "Wall time: 2.69 s\n"
     ]
    }
   ],
   "source": [
    "%%time\n",
    "\n",
    "import json\n",
    "import cv2\n",
    "import pickle, base64\n",
    "import pandas as pd\n",
    "import numpy as np\n",
    "\n",
    "#parameters\n",
    "image_dir = \"./../../../data/chestxray/ChestX-ray8/ChestXray-NIHCC/images\"\n",
    "image_name = \"00000003_000.png\"\n",
    "resized_height = 224\n",
    "resized_width = 224\n",
    "\n",
    "def as_string_b64encoded_pickled(input_object):\n",
    "     #b64encode returns bytes class, make it string by calling .decode('utf-8')\n",
    "    return (base64.b64encode(pickle.dumps(input_object))).decode('utf-8')\n",
    "\n",
    "full_path = os.path.join(image_dir, image_name)\n",
    "\n",
    "cv2_image = cv2.resize(cv2.imread(full_path), (resized_height, resized_width))\n",
    "# cv2_images = np.expand_dims(cv2_image, 0)                                               \n",
    "test_images = json.dumps({\"data\": cv2_image.tolist()})\n",
    "test_images = bytes(test_images, encoding = \"utf8\")\n",
    "# encoded_images = as_string_b64encoded_pickled(cv2_images)\n",
    "# raw_data = pd.DataFrame(data=[[encoded_image]], columns=[\"encoded_image\"])\n",
    "\n",
    "output_dict = json.loads(aks_service.run(test_images))\n",
    "prediction = output_dict[\"chestXrayScore\"]\n",
    "print(prediction)"
   ]
  },
  {
   "cell_type": "markdown",
   "metadata": {},
   "source": [
    "## Clean up"
   ]
  },
  {
   "cell_type": "code",
   "execution_count": null,
   "metadata": {},
   "outputs": [],
   "source": [
    "# %%time\n",
    "# aks_service.delete()\n",
    "# image.delete()\n",
    "# model.delete()"
   ]
  }
 ],
 "metadata": {
  "kernelspec": {
   "display_name": "Python 3.6 - AzureML",
   "language": "python",
   "name": "python3-azureml"
  },
  "language_info": {
   "codemirror_mode": {
    "name": "ipython",
    "version": 3
   },
   "file_extension": ".py",
   "mimetype": "text/x-python",
   "name": "python",
   "nbconvert_exporter": "python",
   "pygments_lexer": "ipython3",
   "version": "3.6.7"
  }
 },
 "nbformat": 4,
 "nbformat_minor": 2
}
